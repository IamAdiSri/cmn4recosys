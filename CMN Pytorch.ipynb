{
 "cells": [
  {
   "cell_type": "markdown",
   "metadata": {
    "hide_input": true
   },
   "source": [
    "# Collaborative Memory Network for Recommendation Systems\n",
    "_**Ebesu, Shen, Fang** - The 41st International ACM SIGIR Conference on Research & Development in Information Retrieval - SIGIR '18_\n",
    "\n",
    "\n",
    "This notebook by **Aditya Srivastava** is a PyTorch port to the TensorFlow code originally by the authors.\n"
   ]
  },
  {
   "cell_type": "markdown",
   "metadata": {},
   "source": [
    "## Imports"
   ]
  },
  {
   "cell_type": "code",
   "execution_count": 1,
   "metadata": {
    "ExecuteTime": {
     "end_time": "2019-07-06T12:45:26.432158Z",
     "start_time": "2019-07-06T12:45:25.991672Z"
    }
   },
   "outputs": [],
   "source": [
    "import torch\n",
    "import torch.nn as nn\n",
    "import torch.nn.functional as F\n",
    "from torch.autograd import Variable\n",
    "\n",
    "import os\n",
    "import time\n",
    "import json\n",
    "import pickle\n",
    "import random\n",
    "import functools\n",
    "import numpy as np\n",
    "from tqdm import tqdm_notebook as tqdm\n",
    "import datetime as dt\n",
    "import matplotlib.pyplot as plt\n",
    "%matplotlib inline\n",
    "import warnings\n",
    "warnings.filterwarnings('ignore')\n",
    "\n",
    "from collections import defaultdict"
   ]
  },
  {
   "cell_type": "markdown",
   "metadata": {},
   "source": [
    "## Configuration"
   ]
  },
  {
   "cell_type": "code",
   "execution_count": null,
   "metadata": {
    "ExecuteTime": {
     "end_time": "2019-07-06T12:52:38.250220Z",
     "start_time": "2019-07-06T12:52:17.433Z"
    }
   },
   "outputs": [],
   "source": [
    "class config:\n",
    "    resume = False\n",
    "    logdir = 'snapshots/'\n",
    "    version = 'model_0'\n",
    "    dataset = 'data/citeulike-a.npz'\n",
    "    pretrain = 'pretrain/citeulike-a_e50.npz'\n",
    "    embed_size = 50\n",
    "    epochs = 30 # training epochs\n",
    "    batch_size = 128\n",
    "    hops = 2 # number of hops/layers\n",
    "    l2_lambda = 0.1 # l2 regularization\n",
    "    neg_count = 4 # negative samples count\n",
    "    optimizer = 'rmsprop'\n",
    "    learning_rate = 0.001\n",
    "    decay_rate = 0.9\n",
    "    momentum = 0.9\n",
    "    grad_clip = 5.0\n",
    "    tol = 1e-5"
   ]
  },
  {
   "cell_type": "markdown",
   "metadata": {},
   "source": [
    "## Utility Functions"
   ]
  },
  {
   "cell_type": "code",
   "execution_count": null,
   "metadata": {},
   "outputs": [],
   "source": []
  },
  {
   "cell_type": "markdown",
   "metadata": {},
   "source": [
    "## Data Loader"
   ]
  },
  {
   "cell_type": "code",
   "execution_count": 12,
   "metadata": {
    "ExecuteTime": {
     "end_time": "2019-07-06T12:51:10.265317Z",
     "start_time": "2019-07-06T12:51:10.224544Z"
    },
    "code_folding": [
     2,
     27,
     35,
     42,
     48,
     54,
     72,
     83
    ],
    "hide_input": false
   },
   "outputs": [],
   "source": [
    "class Dataset(object):\n",
    "\n",
    "    def __init__(self, filename):\n",
    "        \"\"\"\n",
    "        Wraps dataset and produces batches for the model to consume\n",
    "\n",
    "        :param filename: path to training data for npz file\n",
    "        \"\"\"\n",
    "        self._data = np.load(filename, allow_pickle=True)\n",
    "        self.train_data = self._data['train_data'][:, :2]\n",
    "        self.test_data = self._data['test_data'].tolist()\n",
    "        self._train_index = np.arange(len(self.train_data), dtype=np.uint)\n",
    "        self._n_users, self._n_items = self.train_data.max(axis=0) + 1\n",
    "\n",
    "        # Neighborhoods\n",
    "        self.user_items = defaultdict(set)\n",
    "        self.item_users = defaultdict(set)\n",
    "        for u, i in self.train_data:\n",
    "            self.user_items[u].add(i)\n",
    "            self.item_users[i].add(u)\n",
    "        # Get a list version so we do not need to perform type casting\n",
    "        self.item_users_list = {k: list(v) for k, v in self.item_users.items()}\n",
    "        self._max_user_neighbors = max([len(x) for x in self.item_users.values()])\n",
    "        self.user_items = dict(self.user_items)\n",
    "        self.item_users = dict(self.item_users)\n",
    "\n",
    "    @property\n",
    "    def train_size(self):\n",
    "        \"\"\"\n",
    "        :return: number of examples in training set\n",
    "        :rtype: int\n",
    "        \"\"\"\n",
    "        return len(self.train_data)\n",
    "\n",
    "    @property\n",
    "    def user_count(self):\n",
    "        \"\"\"\n",
    "        Number of users in dataset\n",
    "        \"\"\"\n",
    "        return self._n_users\n",
    "\n",
    "    @property\n",
    "    def item_count(self):\n",
    "        \"\"\"\n",
    "        Number of items in dataset\n",
    "        \"\"\"\n",
    "        return self._n_items\n",
    "\n",
    "    def _sample_item(self):\n",
    "        \"\"\"\n",
    "        Draw an item uniformly\n",
    "        \"\"\"\n",
    "        return np.random.randint(0, self.item_count)\n",
    "\n",
    "    def _sample_negative_item(self, user_id):\n",
    "        \"\"\"\n",
    "        Uniformly sample a negative item\n",
    "        \"\"\"\n",
    "        if user_id > self.user_count:\n",
    "            raise ValueError(\"Trying to sample user id: {} > user count: {}\".format(\n",
    "                user_id, self.user_count))\n",
    "\n",
    "        n = self._sample_item()\n",
    "        positive_items = self.user_items[user_id]\n",
    "\n",
    "        if len(positive_items) >= self.item_count:\n",
    "            raise ValueError(\"The User has rated more items than possible %s / %s\" % (\n",
    "                len(positive_items), self.item_count))\n",
    "        while n in positive_items or n not in self.item_users:\n",
    "            n = self._sample_item()\n",
    "        return n\n",
    "\n",
    "    def _generate_data(self, neg_count):\n",
    "        idx = 0\n",
    "        self._examples = np.zeros((self.train_size*neg_count, 3),\n",
    "                                  dtype=np.uint32)\n",
    "        self._examples[:, :] = 0\n",
    "        for user_idx, item_idx in self.train_data:\n",
    "            for _ in range(neg_count):\n",
    "                neg_item_idx = self._sample_negative_item(user_idx)\n",
    "                self._examples[idx, :] = [user_idx, item_idx, neg_item_idx]\n",
    "                idx += 1\n",
    "\n",
    "    def get_data(self, batch_size: int, neighborhood: bool, neg_count: int):\n",
    "        \"\"\"\n",
    "        Batch data together as (user, item, negative item), pos_neighborhood,\n",
    "        length of neighborhood, negative_neighborhood, length of negative neighborhood\n",
    "\n",
    "        if neighborhood is False returns only user, item, negative_item so we\n",
    "        can reuse this for non-neighborhood-based methods.\n",
    "\n",
    "        :param batch_size: size of the batch\n",
    "        :param neighborhood: return the neighborhood information or not\n",
    "        :param neg_count: number of negative samples to uniformly draw per a pos\n",
    "                          example\n",
    "        :return: generator\n",
    "        \"\"\"\n",
    "        # Allocate inputs\n",
    "        batch = np.zeros((batch_size, 3), dtype=np.uint32)\n",
    "        pos_neighbor = np.zeros((batch_size, self._max_user_neighbors), dtype=np.int32)\n",
    "        pos_length = np.zeros(batch_size, dtype=np.int32)\n",
    "        neg_neighbor = np.zeros((batch_size, self._max_user_neighbors), dtype=np.int32)\n",
    "        neg_length = np.zeros(batch_size, dtype=np.int32)\n",
    "\n",
    "        # Shuffle index\n",
    "        np.random.shuffle(self._train_index)\n",
    "\n",
    "        idx = 0\n",
    "        for user_idx, item_idx in self.train_data[self._train_index]:\n",
    "            # TODO: set positive values outside of for loop\n",
    "            for _ in range(neg_count):\n",
    "                neg_item_idx = self._sample_negative_item(user_idx)\n",
    "                batch[idx, :] = [user_idx, item_idx, neg_item_idx]\n",
    "\n",
    "                # Get neighborhood information\n",
    "                if neighborhood:\n",
    "                    if len(self.item_users.get(item_idx, [])) > 0:\n",
    "                        pos_length[idx] = len(self.item_users[item_idx])\n",
    "                        pos_neighbor[idx, :pos_length[idx]] = self.item_users_list[item_idx]\n",
    "                    else:\n",
    "                        # Length defaults to 1\n",
    "                        pos_length[idx] = 1\n",
    "                        pos_neighbor[idx, 0] = item_idx\n",
    "\n",
    "                    if len(self.item_users.get(neg_item_idx, [])) > 0:\n",
    "                        neg_length[idx] = len(self.item_users[neg_item_idx])\n",
    "                        neg_neighbor[idx, :neg_length[idx]] = self.item_users_list[neg_item_idx]\n",
    "                    else:\n",
    "                        # Length defaults to 1\n",
    "                        neg_length[idx] = 1\n",
    "                        neg_neighbor[idx, 0] = neg_item_idx\n",
    "\n",
    "                idx += 1\n",
    "                # Yield batch if we filled queue\n",
    "                if idx == batch_size:\n",
    "                    if neighborhood:\n",
    "                        max_length = max(neg_length.max(), pos_length.max())\n",
    "                        yield batch, pos_neighbor[:, :max_length], pos_length, \\\n",
    "                              neg_neighbor[:, :max_length], neg_length\n",
    "                        pos_length[:] = 1\n",
    "                        neg_length[:] = 1\n",
    "                    else:\n",
    "                        yield batch\n",
    "                    # Reset\n",
    "                    idx = 0\n",
    "\n",
    "        # Provide remainder\n",
    "        if idx > 0:\n",
    "            if neighborhood:\n",
    "                max_length = max(neg_length[:idx].max(), pos_length[:idx].max())\n",
    "                yield batch[:idx], pos_neighbor[:idx, :max_length], pos_length[:idx], \\\n",
    "                      neg_neighbor[:idx, :max_length], neg_length[:idx]\n",
    "            else:\n",
    "                yield batch[:idx]"
   ]
  },
  {
   "cell_type": "code",
   "execution_count": 13,
   "metadata": {
    "ExecuteTime": {
     "end_time": "2019-07-06T12:51:11.440310Z",
     "start_time": "2019-07-06T12:51:10.775303Z"
    }
   },
   "outputs": [
    {
     "name": "stdout",
     "output_type": "stream",
     "text": [
      "16980 5551 311\n"
     ]
    }
   ],
   "source": [
    "dataset = Dataset(config.dataset)\n",
    "\n",
    "config.item_count = dataset.item_count\n",
    "config.user_count = dataset.user_count\n",
    "config.max_neighbors = dataset._max_user_neighbors\n",
    "\n",
    "print(dataset.item_count, dataset.user_count, dataset._max_user_neighbors)"
   ]
  },
  {
   "cell_type": "markdown",
   "metadata": {},
   "source": [
    "## Pretraining"
   ]
  },
  {
   "cell_type": "code",
   "execution_count": null,
   "metadata": {},
   "outputs": [],
   "source": []
  },
  {
   "cell_type": "markdown",
   "metadata": {},
   "source": [
    "## Evaluation Functions"
   ]
  },
  {
   "cell_type": "code",
   "execution_count": null,
   "metadata": {},
   "outputs": [],
   "source": []
  },
  {
   "cell_type": "markdown",
   "metadata": {},
   "source": [
    "## Loss"
   ]
  },
  {
   "cell_type": "code",
   "execution_count": 14,
   "metadata": {
    "ExecuteTime": {
     "end_time": "2019-07-06T12:51:14.943099Z",
     "start_time": "2019-07-06T12:51:14.931584Z"
    },
    "code_folding": []
   },
   "outputs": [],
   "source": [
    "class LossLayer(nn.Module):\n",
    "    def __init__(self):\n",
    "        super(LossLayer, self).__init__()\n",
    "\n",
    "    def forward(self, X, y):\n",
    "        \"\"\"\n",
    "        :param X: predicted value\n",
    "        :param y: ground truth\n",
    "        :returns: Loss with l1/l2 regularization added if in keys\n",
    "        \"\"\"        \n",
    "        bprl = torch.squeeze(self.bpr_loss(X, y))\n",
    "        l2 = torch.sqrt(bprl.pow(2).sum())\n",
    "        \n",
    "        return bprl + config.l2_lambda * l2\n",
    "    \n",
    "    def bpr_loss(self, positive, negative):\n",
    "        r\"\"\"\n",
    "        Pairwise Loss from Bayesian Personalized Ranking.\n",
    "\n",
    "        \\log \\sigma(pos - neg)\n",
    "\n",
    "        where \\sigma is the sigmoid function, we try to set the ranking\n",
    "\n",
    "        if pos > neg = + number\n",
    "        if neg < pos = - number\n",
    "\n",
    "        Then applying the sigmoid to obtain a monotonically increasing function. Any\n",
    "        monotonically increasing function could be used, eg piecewise or probit.\n",
    "\n",
    "        :param positive: Score of prefered example\n",
    "        :param negative: Score of negative example\n",
    "        :param name: str, name scope\n",
    "        :returns: mean loss\n",
    "        \"\"\"\n",
    "\n",
    "        difference = positive - negative\n",
    "        # Numerical stability\n",
    "        eps = 1e-12\n",
    "        loss = -1*torch.log(torch.sigmoid(difference) + eps)\n",
    "        return torch.mean(loss)"
   ]
  },
  {
   "cell_type": "markdown",
   "metadata": {},
   "source": [
    "## Model"
   ]
  },
  {
   "cell_type": "code",
   "execution_count": 15,
   "metadata": {
    "ExecuteTime": {
     "end_time": "2019-07-06T12:51:16.587651Z",
     "start_time": "2019-07-06T12:51:16.559980Z"
    },
    "code_folding": []
   },
   "outputs": [],
   "source": [
    "class VariableLengthMemoryLayer(nn.Module):\n",
    "    def __init__(self, hops, embed_size):\n",
    "        super(VariableLengthMemoryLayer, self).__init__()\n",
    "        \n",
    "        self.hops = hops\n",
    "        self.embed_size = embed_size\n",
    "        \n",
    "        self.hop_mapping = nn.Linear(self.embed_size, self.embed_size, bias=True)\n",
    "        self.hop_mapping.weight.requires_grad = True\n",
    "        self.hop_mapping.bias.requires_grad = True\n",
    "        nn.init.kaiming_normal(self.hop_mapping.weight, mode='fan_in')\n",
    "        self.hop_mapping.bias.data.fill_(1.0)\n",
    "    \n",
    "    def mask_mod(self, inputs, mask_length, maxlen=None):\n",
    "        \"\"\"\n",
    "        Apply a memory mask such that the values we mask result in being the\n",
    "        minimum possible value we can represent with a float32.\n",
    "\n",
    "        :param inputs: [batch size, length], dtype=tf.float32\n",
    "        :param memory_mask: [batch_size] shape Tensor of ints indicating the\n",
    "            length of inputs\n",
    "        :param maxlen: Sets the maximum length of the sequence; if None infered\n",
    "            from inputs\n",
    "        :returns: [batch size, length] dim Tensor with the mask applied\n",
    "        \"\"\"\n",
    "        # [batch_size, length] => Sequence Mask\n",
    "        memory_mask = torch.arange(maxlen).expand(len(mask_length), maxlen) < mask_length.unsqueeze(1)\n",
    "        memory_mask = memory_mask.float()\n",
    "\n",
    "        num_remaining_memory_slots = torch.sum(memory_mask, 1)\n",
    "\n",
    "        # Get the numerical limits of a float\n",
    "        finfo = np.finfo(np.float32)\n",
    "#         print(finfo)\n",
    "\n",
    "        # If True = 1 = Keep that memory slot\n",
    "        kept_indices = memory_mask\n",
    "\n",
    "        # Inverse\n",
    "        ignored_indices = memory_mask < 1\n",
    "        ignored_indices = ignored_indices.float()\n",
    "\n",
    "        # If we keep the indices its the max float value else its the\n",
    "        # minimum float value. Then we can take the minimum\n",
    "        lower_bound = finfo.max * kept_indices + finfo.min * ignored_indices.float()\n",
    "        slice_length = torch.max(mask_length)\n",
    "        \n",
    "        # Return the elementwise\n",
    "        return torch.min(inputs[:, :slice_length], lower_bound[:, :slice_length])\n",
    "        \n",
    "    def apply_attention_memory(self, memory, output_memory, query, memory_mask=None, maxlen=None):\n",
    "        \"\"\"\n",
    "            :param memory: [batch size, max length, embedding size],\n",
    "                typically Matrix M\n",
    "            :param output_memory: [batch size, max length, embedding size],\n",
    "                typically Matrix C\n",
    "            :param query: [batch size, embed size], typically u\n",
    "            :param memory_mask: [batch size] dim Tensor, the length of each\n",
    "                sequence if variable length\n",
    "            :param maxlen: int/Tensor, the maximum sequence padding length; if None it\n",
    "                infers based on the max of memory_mask\n",
    "            :returns: AttentionOutput\n",
    "                 output: [batch size, embedding size]\n",
    "                 weight: [batch size, max length], the attention weights applied to\n",
    "                         the output representation.\n",
    "        \"\"\"\n",
    "        # query = [batch size, embeddings] => expand => [batch size, embeddings, 1]\n",
    "        # transpose => [batch size, 1, embeddings]\n",
    "        query_expanded = query.unsqueeze(-1).transpose(2, 1)\n",
    "\n",
    "        # Apply batched dot product\n",
    "        # memory = [batch size, <Max Length>, Embeddings]\n",
    "        # Broadcast the same memory across each dimension of max length\n",
    "        # We obtain an attention value for each memory,\n",
    "        # ie a_0 p_0, a_1 p_1, .. a_n p_n, which equates to the max length\n",
    "        #    because our query is only 1 dim, we only get attention over memory\n",
    "        #    for that query. If our query was 2-d then we would obtain a matrix.\n",
    "        # Return: [batch size, max length]\n",
    "        batched_dot_prod = query_expanded * memory\n",
    "        scores = batched_dot_prod.sum(2)\n",
    "\n",
    "        if memory_mask is not None:\n",
    "            scores = self.mask_mod(scores, memory_mask, maxlen)\n",
    "\n",
    "        # Attention over memories: [Batch Size, <Max Length>]\n",
    "        attention = F.softmax(scores)\n",
    "\n",
    "        # [Batch Size, <Max Length>] => [Batch Size, 1, <Max Length>]\n",
    "        probs_temp = attention.unsqueeze(1)\n",
    "\n",
    "        # Output_Memories = [batch size, <Max Length>, Embeddings]\n",
    "        # Transpose = [Batch Size, Embedding Size, <Max Length>]\n",
    "        c_temp = output_memory.transpose(2, 1)\n",
    "\n",
    "        # Apply a weighted scalar or attention to the external memory \n",
    "        # to get weighted neighborhood\n",
    "        # [batch size, 1, <max length>] * [batch size, embedding size, <max length>]\n",
    "        neighborhood = c_temp * probs_temp\n",
    "\n",
    "        # Sum the weighted memories together\n",
    "        # Input:  [batch Size, embedding size, <max length>]\n",
    "        # Output: [Batch Size, Embedding Size]\n",
    "        # Weighted output vector\n",
    "        weighted_output = neighborhood.sum(2)\n",
    "\n",
    "        return {'weight':attention, 'output':weighted_output}\n",
    "    \n",
    "    def forward(self, query, memory, output_memory, seq_length, maxlen=32):\n",
    "        # find maximum length of sequences in this batch\n",
    "        cur_max = torch.max(seq_length).item()\n",
    "        # slice to max length\n",
    "        memory = memory[:, :cur_max]\n",
    "        output_memory = output_memory[:, :cur_max]\n",
    "        \n",
    "        user_query, item_query = query\n",
    "        hop_outputs = []\n",
    "        \n",
    "        # hop 0\n",
    "        # z = m_u + e_i\n",
    "        z = user_query + item_query\n",
    "        \n",
    "        for hop_k in range(self.hops):\n",
    "            # hop 1, ... , hop self.hops-1\n",
    "            if hop_k != 0:                \n",
    "                # f(Wz + o + b)\n",
    "                z = F.relu(self.hop_mapping(z) + memory_hop['output'])\n",
    "            \n",
    "            # apply attention\n",
    "            memory_hop = self.apply_attention_memory(memory, \n",
    "                                               output_memory,\n",
    "                                               z, \n",
    "                                               seq_length, \n",
    "                                               maxlen)\n",
    "            hop_outputs.append(memory_hop)\n",
    "        \n",
    "        return hop_outputs"
   ]
  },
  {
   "cell_type": "code",
   "execution_count": 16,
   "metadata": {
    "ExecuteTime": {
     "end_time": "2019-07-06T12:51:16.811391Z",
     "start_time": "2019-07-06T12:51:16.802550Z"
    },
    "code_folding": []
   },
   "outputs": [],
   "source": [
    "class OutputModule(nn.Module):\n",
    "    \n",
    "    def __init__(self, embed_size):\n",
    "        super(OutputModule, self).__init__()\n",
    "        \n",
    "        self.embed_size = embed_size\n",
    "        \n",
    "        self.dense = nn.Linear(self.embed_size*2, self.embed_size, bias=True)\n",
    "        self.dense.weight.requires_grad = True\n",
    "        self.dense.bias.requires_grad = True\n",
    "        nn.init.kaiming_normal_(self.dense.weight, mode='fan_in')\n",
    "        self.dense.bias.data.fill_(1.0)\n",
    "        \n",
    "        self.out = nn.Linear(self.embed_size, 1, bias = False)\n",
    "        self.out.weight.requires_grad = True\n",
    "        nn.init.xavier_uniform_(self.out.weight)\n",
    "        \n",
    "    def forward(self, inputs):\n",
    "        output = F.relu(self.dense(inputs))\n",
    "        output = self.out(output)\n",
    "        return output.squeeze()"
   ]
  },
  {
   "cell_type": "code",
   "execution_count": 17,
   "metadata": {
    "ExecuteTime": {
     "end_time": "2019-07-06T12:51:16.995469Z",
     "start_time": "2019-07-06T12:51:16.975522Z"
    },
    "code_folding": []
   },
   "outputs": [],
   "source": [
    "class CollaborativeMemoryNetwork(nn.Module):\n",
    "    \n",
    "    def __init__(self, user_embeddings, item_embeddings):\n",
    "        super(CollaborativeMemoryNetwork, self).__init__()\n",
    "\n",
    "        # MemoryEmbed\n",
    "        self.user_memory = nn.Embedding(user_embeddings.shape[0], user_embeddings.shape[1])\n",
    "        self.user_memory.weight = nn.Parameter(torch.from_numpy(user_embeddings))\n",
    "        self.user_memory.weight.requires_grad = True\n",
    "        \n",
    "        # ItemMemory\n",
    "        self.item_memory = nn.Embedding(item_embeddings.shape[0], item_embeddings.shape[1])\n",
    "        self.item_memory.weight = nn.Parameter(torch.from_numpy(item_embeddings))\n",
    "        self.item_memory.weight.requires_grad = True\n",
    "\n",
    "        # MemoryOutput\n",
    "        self.user_output = nn.Embedding(user_embeddings.shape[0], user_embeddings.shape[1])\n",
    "        # user_output is initialised with tf.truncated_normal_initializer(stddev=0.01)}\n",
    "        self.user_output.weight.requires_grad = True\n",
    "\n",
    "        self.mem_layer = VariableLengthMemoryLayer(2, config.embed_size)\n",
    "\n",
    "        self.output_module = OutputModule(config.embed_size)\n",
    "        \n",
    "        self.loss_layer = LossLayer()\n",
    "\n",
    "    \n",
    "    def forward(self, batch):\n",
    "        ratings, pos_neighborhoods, pos_neighborhood_length, neg_neighborhoods, neg_neighborhood_length = batch\n",
    "        \n",
    "        input_users = torch.LongTensor(np.array(ratings[:, 0], dtype=np.int32))\n",
    "        input_items = torch.LongTensor(np.array(ratings[:, 1], dtype=np.int32))\n",
    "        input_items_negative = torch.LongTensor(np.array(ratings[:, 2], dtype=np.int32))\n",
    "        input_neighborhoods = torch.LongTensor(np.array(pos_neighborhoods, dtype=np.int32))\n",
    "        input_neighborhood_lengths = torch.LongTensor(np.array(pos_neighborhood_length, dtype=np.int32))\n",
    "        input_neighborhoods_negative = torch.LongTensor(np.array(neg_neighborhoods, dtype=np.int32))\n",
    "        input_neighborhood_lengths_negative = torch.LongTensor(np.array(neg_neighborhood_length, dtype=np.int32))\n",
    "        \n",
    "        # get embeddings from user memory\n",
    "        cur_user = self.user_memory(input_users)\n",
    "        cur_user_output = self.user_output(input_users)\n",
    "\n",
    "        # get embeddings from item memory\n",
    "        cur_item = self.item_memory(input_items)\n",
    "        cur_item_negative = self.item_memory(input_items_negative)\n",
    "\n",
    "        # share embeddings\n",
    "        cur_item_output = cur_item\n",
    "        cur_item_output_negative = cur_item_negative\n",
    "        \n",
    "        # queries\n",
    "        query = (cur_user, cur_item)\n",
    "        neg_query = (cur_user, cur_item_negative)\n",
    "        \n",
    "        # positive\n",
    "        neighbor = self.mem_layer(query, \n",
    "                                  self.user_memory(input_neighborhoods), \n",
    "                                  self.user_output(input_neighborhoods), \n",
    "                                  input_neighborhood_lengths, \n",
    "                                  config.max_neighbors)[-1]['output']\n",
    "        \n",
    "        score = self.output_module(torch.cat((cur_user * cur_item, neighbor), 1))\n",
    "\n",
    "        # negative\n",
    "        neighbor_negative = self.mem_layer(neg_query, \n",
    "                                           self.user_memory(input_neighborhoods_negative), \n",
    "                                           self.user_output(input_neighborhoods_negative), \n",
    "                                           input_neighborhood_lengths_negative, \n",
    "                                           config.max_neighbors)[-1]['output']\n",
    "        \n",
    "        negative_output = self.output_module(torch.cat((cur_user * cur_item_negative, \n",
    "                                                        neighbor_negative), 1))\n",
    "        \n",
    "        return score, negative_output\n",
    "    "
   ]
  },
  {
   "cell_type": "code",
   "execution_count": 18,
   "metadata": {
    "ExecuteTime": {
     "end_time": "2019-07-06T12:51:17.649294Z",
     "start_time": "2019-07-06T12:51:17.541738Z"
    }
   },
   "outputs": [],
   "source": [
    "# loading pretrained embeddings\n",
    "embeddings = np.load(config.pretrain, allow_pickle=True)\n",
    "\n",
    "# initialize model\n",
    "model = CollaborativeMemoryNetwork(embeddings['user']*0.5, embeddings['item']*0.5)"
   ]
  },
  {
   "cell_type": "markdown",
   "metadata": {},
   "source": [
    "## Training Loop"
   ]
  },
  {
   "cell_type": "code",
   "execution_count": 19,
   "metadata": {
    "ExecuteTime": {
     "end_time": "2019-07-06T12:52:38.234593Z",
     "start_time": "2019-07-06T12:51:19.264418Z"
    },
    "code_folding": [],
    "scrolled": true
   },
   "outputs": [
    {
     "data": {
      "application/vnd.jupyter.widget-view+json": {
       "model_id": "9980cbfc944f45ed8c87bf2375789159",
       "version_major": 2,
       "version_minor": 0
      },
      "text/plain": [
       "HBox(children=(IntProgress(value=0, layout=Layout(flex='2'), max=6232), HTML(value='')), layout=Layout(display…"
      ]
     },
     "metadata": {},
     "output_type": "display_data"
    },
    {
     "ename": "KeyboardInterrupt",
     "evalue": "",
     "output_type": "error",
     "traceback": [
      "\u001b[0;31m---------------------------------------------------------------------------\u001b[0m",
      "\u001b[0;31mKeyboardInterrupt\u001b[0m                         Traceback (most recent call last)",
      "\u001b[0;32m<ipython-input-19-d52e1f0f3f82>\u001b[0m in \u001b[0;36m<module>\u001b[0;34m\u001b[0m\n\u001b[1;32m     15\u001b[0m         \u001b[0moptimizer\u001b[0m\u001b[0;34m.\u001b[0m\u001b[0mzero_grad\u001b[0m\u001b[0;34m(\u001b[0m\u001b[0;34m)\u001b[0m\u001b[0;34m\u001b[0m\u001b[0;34m\u001b[0m\u001b[0m\n\u001b[1;32m     16\u001b[0m \u001b[0;34m\u001b[0m\u001b[0m\n\u001b[0;32m---> 17\u001b[0;31m         \u001b[0mscore_pos\u001b[0m\u001b[0;34m,\u001b[0m \u001b[0mscore_neg\u001b[0m \u001b[0;34m=\u001b[0m \u001b[0mmodel\u001b[0m\u001b[0;34m(\u001b[0m\u001b[0mbatch\u001b[0m\u001b[0;34m)\u001b[0m\u001b[0;34m\u001b[0m\u001b[0;34m\u001b[0m\u001b[0m\n\u001b[0m\u001b[1;32m     18\u001b[0m         \u001b[0mbatch_loss\u001b[0m \u001b[0;34m=\u001b[0m \u001b[0mcriterion\u001b[0m\u001b[0;34m(\u001b[0m\u001b[0mscore_pos\u001b[0m\u001b[0;34m,\u001b[0m \u001b[0mscore_neg\u001b[0m\u001b[0;34m)\u001b[0m\u001b[0;34m\u001b[0m\u001b[0;34m\u001b[0m\u001b[0m\n\u001b[1;32m     19\u001b[0m \u001b[0;34m\u001b[0m\u001b[0m\n",
      "\u001b[0;32m~/.Envs/dl/lib/python3.6/site-packages/torch/nn/modules/module.py\u001b[0m in \u001b[0;36m__call__\u001b[0;34m(self, *input, **kwargs)\u001b[0m\n\u001b[1;32m    491\u001b[0m             \u001b[0mresult\u001b[0m \u001b[0;34m=\u001b[0m \u001b[0mself\u001b[0m\u001b[0;34m.\u001b[0m\u001b[0m_slow_forward\u001b[0m\u001b[0;34m(\u001b[0m\u001b[0;34m*\u001b[0m\u001b[0minput\u001b[0m\u001b[0;34m,\u001b[0m \u001b[0;34m**\u001b[0m\u001b[0mkwargs\u001b[0m\u001b[0;34m)\u001b[0m\u001b[0;34m\u001b[0m\u001b[0;34m\u001b[0m\u001b[0m\n\u001b[1;32m    492\u001b[0m         \u001b[0;32melse\u001b[0m\u001b[0;34m:\u001b[0m\u001b[0;34m\u001b[0m\u001b[0;34m\u001b[0m\u001b[0m\n\u001b[0;32m--> 493\u001b[0;31m             \u001b[0mresult\u001b[0m \u001b[0;34m=\u001b[0m \u001b[0mself\u001b[0m\u001b[0;34m.\u001b[0m\u001b[0mforward\u001b[0m\u001b[0;34m(\u001b[0m\u001b[0;34m*\u001b[0m\u001b[0minput\u001b[0m\u001b[0;34m,\u001b[0m \u001b[0;34m**\u001b[0m\u001b[0mkwargs\u001b[0m\u001b[0;34m)\u001b[0m\u001b[0;34m\u001b[0m\u001b[0;34m\u001b[0m\u001b[0m\n\u001b[0m\u001b[1;32m    494\u001b[0m         \u001b[0;32mfor\u001b[0m \u001b[0mhook\u001b[0m \u001b[0;32min\u001b[0m \u001b[0mself\u001b[0m\u001b[0;34m.\u001b[0m\u001b[0m_forward_hooks\u001b[0m\u001b[0;34m.\u001b[0m\u001b[0mvalues\u001b[0m\u001b[0;34m(\u001b[0m\u001b[0;34m)\u001b[0m\u001b[0;34m:\u001b[0m\u001b[0;34m\u001b[0m\u001b[0;34m\u001b[0m\u001b[0m\n\u001b[1;32m    495\u001b[0m             \u001b[0mhook_result\u001b[0m \u001b[0;34m=\u001b[0m \u001b[0mhook\u001b[0m\u001b[0;34m(\u001b[0m\u001b[0mself\u001b[0m\u001b[0;34m,\u001b[0m \u001b[0minput\u001b[0m\u001b[0;34m,\u001b[0m \u001b[0mresult\u001b[0m\u001b[0;34m)\u001b[0m\u001b[0;34m\u001b[0m\u001b[0;34m\u001b[0m\u001b[0m\n",
      "\u001b[0;32m<ipython-input-17-99f0c4e6294f>\u001b[0m in \u001b[0;36mforward\u001b[0;34m(self, batch)\u001b[0m\n\u001b[1;32m     55\u001b[0m         \u001b[0;31m# positive\u001b[0m\u001b[0;34m\u001b[0m\u001b[0;34m\u001b[0m\u001b[0;34m\u001b[0m\u001b[0m\n\u001b[1;32m     56\u001b[0m         neighbor = self.mem_layer(query, \n\u001b[0;32m---> 57\u001b[0;31m                                   \u001b[0mself\u001b[0m\u001b[0;34m.\u001b[0m\u001b[0muser_memory\u001b[0m\u001b[0;34m(\u001b[0m\u001b[0minput_neighborhoods\u001b[0m\u001b[0;34m)\u001b[0m\u001b[0;34m,\u001b[0m\u001b[0;34m\u001b[0m\u001b[0;34m\u001b[0m\u001b[0m\n\u001b[0m\u001b[1;32m     58\u001b[0m                                   \u001b[0mself\u001b[0m\u001b[0;34m.\u001b[0m\u001b[0muser_output\u001b[0m\u001b[0;34m(\u001b[0m\u001b[0minput_neighborhoods\u001b[0m\u001b[0;34m)\u001b[0m\u001b[0;34m,\u001b[0m\u001b[0;34m\u001b[0m\u001b[0;34m\u001b[0m\u001b[0m\n\u001b[1;32m     59\u001b[0m                                   \u001b[0minput_neighborhood_lengths\u001b[0m\u001b[0;34m,\u001b[0m\u001b[0;34m\u001b[0m\u001b[0;34m\u001b[0m\u001b[0m\n",
      "\u001b[0;32m~/.Envs/dl/lib/python3.6/site-packages/torch/nn/modules/module.py\u001b[0m in \u001b[0;36m__call__\u001b[0;34m(self, *input, **kwargs)\u001b[0m\n\u001b[1;32m    491\u001b[0m             \u001b[0mresult\u001b[0m \u001b[0;34m=\u001b[0m \u001b[0mself\u001b[0m\u001b[0;34m.\u001b[0m\u001b[0m_slow_forward\u001b[0m\u001b[0;34m(\u001b[0m\u001b[0;34m*\u001b[0m\u001b[0minput\u001b[0m\u001b[0;34m,\u001b[0m \u001b[0;34m**\u001b[0m\u001b[0mkwargs\u001b[0m\u001b[0;34m)\u001b[0m\u001b[0;34m\u001b[0m\u001b[0;34m\u001b[0m\u001b[0m\n\u001b[1;32m    492\u001b[0m         \u001b[0;32melse\u001b[0m\u001b[0;34m:\u001b[0m\u001b[0;34m\u001b[0m\u001b[0;34m\u001b[0m\u001b[0m\n\u001b[0;32m--> 493\u001b[0;31m             \u001b[0mresult\u001b[0m \u001b[0;34m=\u001b[0m \u001b[0mself\u001b[0m\u001b[0;34m.\u001b[0m\u001b[0mforward\u001b[0m\u001b[0;34m(\u001b[0m\u001b[0;34m*\u001b[0m\u001b[0minput\u001b[0m\u001b[0;34m,\u001b[0m \u001b[0;34m**\u001b[0m\u001b[0mkwargs\u001b[0m\u001b[0;34m)\u001b[0m\u001b[0;34m\u001b[0m\u001b[0;34m\u001b[0m\u001b[0m\n\u001b[0m\u001b[1;32m    494\u001b[0m         \u001b[0;32mfor\u001b[0m \u001b[0mhook\u001b[0m \u001b[0;32min\u001b[0m \u001b[0mself\u001b[0m\u001b[0;34m.\u001b[0m\u001b[0m_forward_hooks\u001b[0m\u001b[0;34m.\u001b[0m\u001b[0mvalues\u001b[0m\u001b[0;34m(\u001b[0m\u001b[0;34m)\u001b[0m\u001b[0;34m:\u001b[0m\u001b[0;34m\u001b[0m\u001b[0;34m\u001b[0m\u001b[0m\n\u001b[1;32m    495\u001b[0m             \u001b[0mhook_result\u001b[0m \u001b[0;34m=\u001b[0m \u001b[0mhook\u001b[0m\u001b[0;34m(\u001b[0m\u001b[0mself\u001b[0m\u001b[0;34m,\u001b[0m \u001b[0minput\u001b[0m\u001b[0;34m,\u001b[0m \u001b[0mresult\u001b[0m\u001b[0;34m)\u001b[0m\u001b[0;34m\u001b[0m\u001b[0;34m\u001b[0m\u001b[0m\n",
      "\u001b[0;32m~/.Envs/dl/lib/python3.6/site-packages/torch/nn/modules/sparse.py\u001b[0m in \u001b[0;36mforward\u001b[0;34m(self, input)\u001b[0m\n\u001b[1;32m    115\u001b[0m         return F.embedding(\n\u001b[1;32m    116\u001b[0m             \u001b[0minput\u001b[0m\u001b[0;34m,\u001b[0m \u001b[0mself\u001b[0m\u001b[0;34m.\u001b[0m\u001b[0mweight\u001b[0m\u001b[0;34m,\u001b[0m \u001b[0mself\u001b[0m\u001b[0;34m.\u001b[0m\u001b[0mpadding_idx\u001b[0m\u001b[0;34m,\u001b[0m \u001b[0mself\u001b[0m\u001b[0;34m.\u001b[0m\u001b[0mmax_norm\u001b[0m\u001b[0;34m,\u001b[0m\u001b[0;34m\u001b[0m\u001b[0;34m\u001b[0m\u001b[0m\n\u001b[0;32m--> 117\u001b[0;31m             self.norm_type, self.scale_grad_by_freq, self.sparse)\n\u001b[0m\u001b[1;32m    118\u001b[0m \u001b[0;34m\u001b[0m\u001b[0m\n\u001b[1;32m    119\u001b[0m     \u001b[0;32mdef\u001b[0m \u001b[0mextra_repr\u001b[0m\u001b[0;34m(\u001b[0m\u001b[0mself\u001b[0m\u001b[0;34m)\u001b[0m\u001b[0;34m:\u001b[0m\u001b[0;34m\u001b[0m\u001b[0;34m\u001b[0m\u001b[0m\n",
      "\u001b[0;32m~/.Envs/dl/lib/python3.6/site-packages/torch/nn/functional.py\u001b[0m in \u001b[0;36membedding\u001b[0;34m(input, weight, padding_idx, max_norm, norm_type, scale_grad_by_freq, sparse)\u001b[0m\n\u001b[1;32m   1504\u001b[0m         \u001b[0;31m# remove once script supports set_grad_enabled\u001b[0m\u001b[0;34m\u001b[0m\u001b[0;34m\u001b[0m\u001b[0;34m\u001b[0m\u001b[0m\n\u001b[1;32m   1505\u001b[0m         \u001b[0m_no_grad_embedding_renorm_\u001b[0m\u001b[0;34m(\u001b[0m\u001b[0mweight\u001b[0m\u001b[0;34m,\u001b[0m \u001b[0minput\u001b[0m\u001b[0;34m,\u001b[0m \u001b[0mmax_norm\u001b[0m\u001b[0;34m,\u001b[0m \u001b[0mnorm_type\u001b[0m\u001b[0;34m)\u001b[0m\u001b[0;34m\u001b[0m\u001b[0;34m\u001b[0m\u001b[0m\n\u001b[0;32m-> 1506\u001b[0;31m     \u001b[0;32mreturn\u001b[0m \u001b[0mtorch\u001b[0m\u001b[0;34m.\u001b[0m\u001b[0membedding\u001b[0m\u001b[0;34m(\u001b[0m\u001b[0mweight\u001b[0m\u001b[0;34m,\u001b[0m \u001b[0minput\u001b[0m\u001b[0;34m,\u001b[0m \u001b[0mpadding_idx\u001b[0m\u001b[0;34m,\u001b[0m \u001b[0mscale_grad_by_freq\u001b[0m\u001b[0;34m,\u001b[0m \u001b[0msparse\u001b[0m\u001b[0;34m)\u001b[0m\u001b[0;34m\u001b[0m\u001b[0;34m\u001b[0m\u001b[0m\n\u001b[0m\u001b[1;32m   1507\u001b[0m \u001b[0;34m\u001b[0m\u001b[0m\n\u001b[1;32m   1508\u001b[0m \u001b[0;34m\u001b[0m\u001b[0m\n",
      "\u001b[0;31mKeyboardInterrupt\u001b[0m: "
     ]
    }
   ],
   "source": [
    "# TODO: write the save/resume method\n",
    "model.train()\n",
    "optimizer = torch.optim.RMSprop(model.parameters(), lr=config.learning_rate, \n",
    "                                momentum=config.momentum, weight_decay=config.decay_rate)\n",
    "criterion = LossLayer()\n",
    "\n",
    "loss = []\n",
    "for i in range(config.epochs):\n",
    "    model.zero_grad()\n",
    "    \n",
    "    progress = tqdm(enumerate(dataset.get_data(config.batch_size, True, config.neg_count)), \n",
    "                    dynamic_ncols=True, total=(dataset.train_size * config.neg_count) // config.batch_size)\n",
    "    \n",
    "    for k, batch in progress:\n",
    "        optimizer.zero_grad()\n",
    "        \n",
    "        score_pos, score_neg = model(batch)\n",
    "        batch_loss = criterion(score_pos, score_neg)\n",
    "        \n",
    "        # adding l2 regularisation\n",
    "        for name, param in model.named_parameters():\n",
    "            if name in ['mem_layer.hop_mapping.weight', \n",
    "                        'output_module.dense.weight', \n",
    "                        'output_module.out.weight']:\n",
    "                l2 = torch.sqrt(param.pow(2).sum())\n",
    "                batch_loss += (config.l2_lambda * l2)\n",
    "\n",
    "        batch_loss.backward()\n",
    "        \n",
    "        nn.utils.clip_grad_norm_(model.parameters(), config.grad_clip)\n",
    "        \n",
    "        optimizer.step()\n",
    "        \n",
    "        loss.append(batch_loss.item())\n",
    "        progress.set_description(u\"[{}] Loss: {:,.4f} » » » » \".format(i, batch_loss.item()))\n",
    "        \n",
    "    print(\"Epoch {}: Avg Loss/Batch {:<20,.6f}\".format(i, np.mean(loss)))"
   ]
  },
  {
   "cell_type": "code",
   "execution_count": null,
   "metadata": {
    "ExecuteTime": {
     "end_time": "2019-07-06T11:07:43.640240Z",
     "start_time": "2019-07-06T11:07:30.403Z"
    }
   },
   "outputs": [],
   "source": [
    "# save model weights\n",
    "torch.save(model.state_dict(), config.logdir+config.version)"
   ]
  },
  {
   "cell_type": "code",
   "execution_count": null,
   "metadata": {
    "ExecuteTime": {
     "end_time": "2019-07-06T10:12:50.253791Z",
     "start_time": "2019-07-06T10:11:46.805Z"
    }
   },
   "outputs": [],
   "source": [
    "# load model weights\n",
    "model = CollaborativeMemoryNetwork(embeddings['user']*0.5, embeddings['item']*0.5)\n",
    "model.load_state_dict(torch.load(config.logdir+config.version))\n",
    "model.eval()"
   ]
  },
  {
   "cell_type": "code",
   "execution_count": null,
   "metadata": {},
   "outputs": [],
   "source": []
  }
 ],
 "metadata": {
  "kernelspec": {
   "display_name": "Python 3",
   "language": "python",
   "name": "python3"
  },
  "language_info": {
   "codemirror_mode": {
    "name": "ipython",
    "version": 3
   },
   "file_extension": ".py",
   "mimetype": "text/x-python",
   "name": "python",
   "nbconvert_exporter": "python",
   "pygments_lexer": "ipython3",
   "version": "3.6.7"
  },
  "varInspector": {
   "cols": {
    "lenName": 16,
    "lenType": 16,
    "lenVar": 40
   },
   "kernels_config": {
    "python": {
     "delete_cmd_postfix": "",
     "delete_cmd_prefix": "del ",
     "library": "var_list.py",
     "varRefreshCmd": "print(var_dic_list())"
    },
    "r": {
     "delete_cmd_postfix": ") ",
     "delete_cmd_prefix": "rm(",
     "library": "var_list.r",
     "varRefreshCmd": "cat(var_dic_list()) "
    }
   },
   "types_to_exclude": [
    "module",
    "function",
    "builtin_function_or_method",
    "instance",
    "_Feature"
   ],
   "window_display": false
  }
 },
 "nbformat": 4,
 "nbformat_minor": 2
}
